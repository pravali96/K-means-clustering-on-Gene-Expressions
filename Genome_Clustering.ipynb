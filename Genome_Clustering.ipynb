{
  "nbformat": 4,
  "nbformat_minor": 0,
  "metadata": {
    "colab": {
      "name": "Genome Clustering.ipynb",
      "provenance": []
    },
    "kernelspec": {
      "name": "python3",
      "display_name": "Python 3"
    },
    "language_info": {
      "name": "python"
    }
  },
  "cells": [
    {
      "cell_type": "code",
      "metadata": {
        "id": "nJjzjBUqJROE"
      },
      "source": [
        "import tarfile\n",
        "import urllib\n",
        "\n",
        "import numpy as np\n",
        "import matplotlib.pyplot as plt\n",
        "import pandas as pd\n",
        "import seaborn as sns\n",
        "\n",
        "from sklearn.cluster import KMeans\n",
        "from sklearn.decomposition import PCA\n",
        "from sklearn.metrics import silhouette_score, adjusted_rand_score\n",
        "from sklearn.pipeline import Pipeline\n",
        "from sklearn.preprocessing import LabelEncoder, MinMaxScaler"
      ],
      "execution_count": null,
      "outputs": []
    },
    {
      "cell_type": "code",
      "metadata": {
        "id": "WocvXcavJ1LI"
      },
      "source": [
        "uci_tcga_url = \"https://archive.ics.uci.edu/ml/machine-learning-databases/00401/\"\n",
        "archive_name = \"TCGA-PANCAN-HiSeq-801x20531.tar.gz\"\n",
        "\n",
        "# Build the url\n",
        "full_download_url = urllib.parse.urljoin(uci_tcga_url, archive_name)\n",
        "\n",
        "# Download the file\n",
        "r = urllib.request.urlretrieve (full_download_url, archive_name)\n",
        "\n",
        "# Extract the data from the archive\n",
        "tar = tarfile.open(archive_name, \"r:gz\")\n",
        "tar.extractall()\n",
        "tar.close()"
      ],
      "execution_count": null,
      "outputs": []
    },
    {
      "cell_type": "code",
      "metadata": {
        "id": "cnDUlX_vKDiA"
      },
      "source": [
        "datafile = \"TCGA-PANCAN-HiSeq-801x20531/data.csv\"\n",
        "labels_file = \"TCGA-PANCAN-HiSeq-801x20531/labels.csv\"\n",
        "\n",
        "data = np.genfromtxt(\n",
        "    datafile,\n",
        "    delimiter=\",\",\n",
        "    usecols=range(1, 20532),\n",
        "    skip_header=1\n",
        ")\n",
        "\n",
        "true_label_names = np.genfromtxt(\n",
        "    labels_file,\n",
        "    delimiter=\",\",\n",
        "    usecols=(1,),\n",
        "    skip_header=1,\n",
        "    dtype=\"str\"\n",
        ")"
      ],
      "execution_count": null,
      "outputs": []
    },
    {
      "cell_type": "code",
      "metadata": {
        "colab": {
          "base_uri": "https://localhost:8080/"
        },
        "id": "qMIHZneIKLgU",
        "outputId": "04a1ec3b-abb3-4e10-f88f-4577a8a6f9cd"
      },
      "source": [
        "data[5:,:5]"
      ],
      "execution_count": null,
      "outputs": [
        {
          "output_type": "execute_result",
          "data": {
            "text/plain": [
              "array([[0.        , 3.46785331, 3.58191761, 6.62024329, 9.70682924],\n",
              "       [0.        , 1.22496637, 1.6911768 , 6.57200741, 9.64051067],\n",
              "       [0.        , 2.85485343, 1.75047788, 7.22672045, 9.75869127],\n",
              "       ...,\n",
              "       [0.        , 3.24958187, 3.70749166, 8.18590123, 9.50408206],\n",
              "       [0.        , 2.59033853, 2.78797567, 7.31862415, 9.98713608],\n",
              "       [0.        , 2.32524248, 3.80593214, 6.53024557, 9.56036723]])"
            ]
          },
          "metadata": {
            "tags": []
          },
          "execution_count": 5
        }
      ]
    },
    {
      "cell_type": "code",
      "metadata": {
        "colab": {
          "base_uri": "https://localhost:8080/"
        },
        "id": "D1CmD19KLIME",
        "outputId": "cac5f948-e355-4e54-eb69-c2cd10ea2b3f"
      },
      "source": [
        "data.shape"
      ],
      "execution_count": null,
      "outputs": [
        {
          "output_type": "execute_result",
          "data": {
            "text/plain": [
              "(801, 20531)"
            ]
          },
          "metadata": {
            "tags": []
          },
          "execution_count": 12
        }
      ]
    },
    {
      "cell_type": "code",
      "metadata": {
        "colab": {
          "base_uri": "https://localhost:8080/"
        },
        "id": "TDEelVGJKVdb",
        "outputId": "5decf862-ef82-439f-c07b-2b26f2457957"
      },
      "source": [
        "true_label_names[:5]"
      ],
      "execution_count": null,
      "outputs": [
        {
          "output_type": "execute_result",
          "data": {
            "text/plain": [
              "array(['PRAD', 'LUAD', 'PRAD', 'PRAD', 'BRCA'], dtype='<U4')"
            ]
          },
          "metadata": {
            "tags": []
          },
          "execution_count": 6
        }
      ]
    },
    {
      "cell_type": "code",
      "metadata": {
        "colab": {
          "base_uri": "https://localhost:8080/"
        },
        "id": "B8sT5QiyKe-Y",
        "outputId": "eede1f23-f5e3-4931-ef42-a6dfecf08808"
      },
      "source": [
        "# label encode true label names\n",
        "le=LabelEncoder()\n",
        "true_labels=le.fit_transform(true_label_names)\n",
        "print(true_labels[:5])\n",
        "n_clusters=len(le.classes_)\n",
        "n_clusters"
      ],
      "execution_count": null,
      "outputs": [
        {
          "output_type": "stream",
          "text": [
            "[4 3 4 4 0]\n"
          ],
          "name": "stdout"
        },
        {
          "output_type": "execute_result",
          "data": {
            "text/plain": [
              "5"
            ]
          },
          "metadata": {
            "tags": []
          },
          "execution_count": 16
        }
      ]
    },
    {
      "cell_type": "markdown",
      "metadata": {
        "id": "aZkBrWimLVqG"
      },
      "source": [
        "## Dimension Reduction"
      ]
    },
    {
      "cell_type": "code",
      "metadata": {
        "id": "8Z9HD0HJKzde"
      },
      "source": [
        "# Since its a high dimensional date set, applying PCA to reduce the dimension to 2\n",
        "# Using pipelines to perfrom feature scaling and dimension reduction\n",
        "preprocessor=Pipeline(\n",
        "    [\n",
        "     (\"sc\", MinMaxScaler()),\n",
        "     ('pca', PCA(n_components=2, random_state=42)),\n",
        "    ]\n",
        ")"
      ],
      "execution_count": null,
      "outputs": []
    },
    {
      "cell_type": "markdown",
      "metadata": {
        "id": "quVPGMMHNnh7"
      },
      "source": [
        "## Building cluster"
      ]
    },
    {
      "cell_type": "code",
      "metadata": {
        "id": "0a6V2gLYL9kA"
      },
      "source": [
        "# Performing k Means\n",
        "clustering= Pipeline(\n",
        "    [\n",
        "     (\"kmeans\", KMeans(n_clusters=n_clusters, init='k-means++', n_init=50,\n",
        "                       max_iter=500, random_state=42))\n",
        "    ]\n",
        ")"
      ],
      "execution_count": null,
      "outputs": []
    },
    {
      "cell_type": "code",
      "metadata": {
        "id": "KhyfY5VwMp-y"
      },
      "source": [
        "# chaining Pipelines\n",
        "pipe = Pipeline(\n",
        "    [\n",
        "     (\"preprocessor\", preprocessor),\n",
        "     (\"clustering\", clustering)\n",
        "    ]\n",
        ")"
      ],
      "execution_count": null,
      "outputs": []
    },
    {
      "cell_type": "code",
      "metadata": {
        "colab": {
          "base_uri": "https://localhost:8080/"
        },
        "id": "iAvIyfzDNS8b",
        "outputId": "4bd030a1-d6fa-411f-b1bf-67ac1699d0e6"
      },
      "source": [
        "# Calling fit method\n",
        "pipe.fit(data)"
      ],
      "execution_count": null,
      "outputs": [
        {
          "output_type": "execute_result",
          "data": {
            "text/plain": [
              "Pipeline(memory=None,\n",
              "         steps=[('preprocessor',\n",
              "                 Pipeline(memory=None,\n",
              "                          steps=[('sc',\n",
              "                                  MinMaxScaler(copy=True,\n",
              "                                               feature_range=(0, 1))),\n",
              "                                 ('pca',\n",
              "                                  PCA(copy=True, iterated_power='auto',\n",
              "                                      n_components=2, random_state=42,\n",
              "                                      svd_solver='auto', tol=0.0,\n",
              "                                      whiten=False))],\n",
              "                          verbose=False)),\n",
              "                ('clustering',\n",
              "                 Pipeline(memory=None,\n",
              "                          steps=[('kmeans',\n",
              "                                  KMeans(algorithm='auto', copy_x=True,\n",
              "                                         init='k-means++', max_iter=500,\n",
              "                                         n_clusters=5, n_init=50, n_jobs=None,\n",
              "                                         precompute_distances='auto',\n",
              "                                         random_state=42, tol=0.0001,\n",
              "                                         verbose=0))],\n",
              "                          verbose=False))],\n",
              "         verbose=False)"
            ]
          },
          "metadata": {
            "tags": []
          },
          "execution_count": 21
        }
      ]
    },
    {
      "cell_type": "markdown",
      "metadata": {
        "id": "OzhPjpLcNkIH"
      },
      "source": [
        "## Model Evaluation"
      ]
    },
    {
      "cell_type": "markdown",
      "metadata": {
        "id": "HBmlMFPNPMtb"
      },
      "source": [
        "The scale for each of these clustering performance metrics ranges from -1 to 1. A silhouette coefficient of 0 indicates that clusters are significantly overlapping one another, and a silhouette coefficient of 1 indicates clusters are well-separated."
      ]
    },
    {
      "cell_type": "code",
      "metadata": {
        "colab": {
          "base_uri": "https://localhost:8080/"
        },
        "id": "QnfJlzqQNdn3",
        "outputId": "b1c1cf0e-522a-475a-9a57-07376ff8247a"
      },
      "source": [
        "# Using Silhouette Coefficient\n",
        "preprocessed_data=pipe['preprocessor'].transform(data)\n",
        "predicted_labels=pipe['clustering']['kmeans'].labels_\n",
        "silhouette_score(preprocessed_data, predicted_labels)"
      ],
      "execution_count": null,
      "outputs": [
        {
          "output_type": "execute_result",
          "data": {
            "text/plain": [
              "0.5118775528450308"
            ]
          },
          "metadata": {
            "tags": []
          },
          "execution_count": 22
        }
      ]
    },
    {
      "cell_type": "markdown",
      "metadata": {
        "id": "obSSBKI1PSWM"
      },
      "source": [
        "An ARI score of 0 indicates that cluster labels are randomly assigned, and an ARI score of 1 means that the true labels and predicted labels form identical clusters."
      ]
    },
    {
      "cell_type": "code",
      "metadata": {
        "colab": {
          "base_uri": "https://localhost:8080/"
        },
        "id": "HTCy-rKrOz1R",
        "outputId": "fac1fafa-3b8e-4b5e-a3e2-bd84bd96c84e"
      },
      "source": [
        "# Using RAND since we have true labels\n",
        "adjusted_rand_score(true_labels, predicted_labels)"
      ],
      "execution_count": null,
      "outputs": [
        {
          "output_type": "execute_result",
          "data": {
            "text/plain": [
              "0.722276752060253"
            ]
          },
          "metadata": {
            "tags": []
          },
          "execution_count": 23
        }
      ]
    },
    {
      "cell_type": "markdown",
      "metadata": {
        "id": "Lx4YncpoPfiZ"
      },
      "source": [
        "## Visualizing Clusters"
      ]
    },
    {
      "cell_type": "code",
      "metadata": {
        "colab": {
          "base_uri": "https://localhost:8080/",
          "height": 196
        },
        "id": "JNF6DwKyPeHx",
        "outputId": "fb3e4ca2-9a67-4e89-83fe-967c595d52d5"
      },
      "source": [
        "# we need the 2 components of pca to visualize the points in 2D space\n",
        "pcadf=pd.DataFrame(pipe['preprocessor'].transform(data),\n",
        "                   columns=['comp_1','comp2']\n",
        ")\n",
        "pcadf.head()"
      ],
      "execution_count": null,
      "outputs": [
        {
          "output_type": "execute_result",
          "data": {
            "text/html": [
              "<div>\n",
              "<style scoped>\n",
              "    .dataframe tbody tr th:only-of-type {\n",
              "        vertical-align: middle;\n",
              "    }\n",
              "\n",
              "    .dataframe tbody tr th {\n",
              "        vertical-align: top;\n",
              "    }\n",
              "\n",
              "    .dataframe thead th {\n",
              "        text-align: right;\n",
              "    }\n",
              "</style>\n",
              "<table border=\"1\" class=\"dataframe\">\n",
              "  <thead>\n",
              "    <tr style=\"text-align: right;\">\n",
              "      <th></th>\n",
              "      <th>comp_1</th>\n",
              "      <th>comp2</th>\n",
              "    </tr>\n",
              "  </thead>\n",
              "  <tbody>\n",
              "    <tr>\n",
              "      <th>0</th>\n",
              "      <td>-5.668141</td>\n",
              "      <td>-8.872139</td>\n",
              "    </tr>\n",
              "    <tr>\n",
              "      <th>1</th>\n",
              "      <td>-1.470204</td>\n",
              "      <td>10.280182</td>\n",
              "    </tr>\n",
              "    <tr>\n",
              "      <th>2</th>\n",
              "      <td>-10.845387</td>\n",
              "      <td>-1.345352</td>\n",
              "    </tr>\n",
              "    <tr>\n",
              "      <th>3</th>\n",
              "      <td>-9.167961</td>\n",
              "      <td>-8.670123</td>\n",
              "    </tr>\n",
              "    <tr>\n",
              "      <th>4</th>\n",
              "      <td>-6.271848</td>\n",
              "      <td>-3.101208</td>\n",
              "    </tr>\n",
              "  </tbody>\n",
              "</table>\n",
              "</div>"
            ],
            "text/plain": [
              "      comp_1      comp2\n",
              "0  -5.668141  -8.872139\n",
              "1  -1.470204  10.280182\n",
              "2 -10.845387  -1.345352\n",
              "3  -9.167961  -8.670123\n",
              "4  -6.271848  -3.101208"
            ]
          },
          "metadata": {
            "tags": []
          },
          "execution_count": 25
        }
      ]
    },
    {
      "cell_type": "code",
      "metadata": {
        "id": "I9_Kvnj-PCX8"
      },
      "source": [
        "pcadf[\"predicted_cluster\"]=pipe['clustering']['kmeans'].labels_"
      ],
      "execution_count": null,
      "outputs": []
    },
    {
      "cell_type": "code",
      "metadata": {
        "id": "Qn1q3l2nQWmq"
      },
      "source": [
        "pcadf['true_labels']=le.inverse_transform(true_labels)"
      ],
      "execution_count": null,
      "outputs": []
    },
    {
      "cell_type": "code",
      "metadata": {
        "colab": {
          "base_uri": "https://localhost:8080/",
          "height": 196
        },
        "id": "Hd7DDgb8QkSb",
        "outputId": "989ff4fb-1f43-4f59-ef4f-d2d831546572"
      },
      "source": [
        "pcadf.head()"
      ],
      "execution_count": null,
      "outputs": [
        {
          "output_type": "execute_result",
          "data": {
            "text/html": [
              "<div>\n",
              "<style scoped>\n",
              "    .dataframe tbody tr th:only-of-type {\n",
              "        vertical-align: middle;\n",
              "    }\n",
              "\n",
              "    .dataframe tbody tr th {\n",
              "        vertical-align: top;\n",
              "    }\n",
              "\n",
              "    .dataframe thead th {\n",
              "        text-align: right;\n",
              "    }\n",
              "</style>\n",
              "<table border=\"1\" class=\"dataframe\">\n",
              "  <thead>\n",
              "    <tr style=\"text-align: right;\">\n",
              "      <th></th>\n",
              "      <th>comp_1</th>\n",
              "      <th>comp2</th>\n",
              "      <th>predicted_cluster</th>\n",
              "      <th>true_labels</th>\n",
              "    </tr>\n",
              "  </thead>\n",
              "  <tbody>\n",
              "    <tr>\n",
              "      <th>0</th>\n",
              "      <td>-5.668141</td>\n",
              "      <td>-8.872139</td>\n",
              "      <td>2</td>\n",
              "      <td>PRAD</td>\n",
              "    </tr>\n",
              "    <tr>\n",
              "      <th>1</th>\n",
              "      <td>-1.470204</td>\n",
              "      <td>10.280182</td>\n",
              "      <td>3</td>\n",
              "      <td>LUAD</td>\n",
              "    </tr>\n",
              "    <tr>\n",
              "      <th>2</th>\n",
              "      <td>-10.845387</td>\n",
              "      <td>-1.345352</td>\n",
              "      <td>0</td>\n",
              "      <td>PRAD</td>\n",
              "    </tr>\n",
              "    <tr>\n",
              "      <th>3</th>\n",
              "      <td>-9.167961</td>\n",
              "      <td>-8.670123</td>\n",
              "      <td>2</td>\n",
              "      <td>PRAD</td>\n",
              "    </tr>\n",
              "    <tr>\n",
              "      <th>4</th>\n",
              "      <td>-6.271848</td>\n",
              "      <td>-3.101208</td>\n",
              "      <td>0</td>\n",
              "      <td>BRCA</td>\n",
              "    </tr>\n",
              "  </tbody>\n",
              "</table>\n",
              "</div>"
            ],
            "text/plain": [
              "      comp_1      comp2  predicted_cluster true_labels\n",
              "0  -5.668141  -8.872139                  2        PRAD\n",
              "1  -1.470204  10.280182                  3        LUAD\n",
              "2 -10.845387  -1.345352                  0        PRAD\n",
              "3  -9.167961  -8.670123                  2        PRAD\n",
              "4  -6.271848  -3.101208                  0        BRCA"
            ]
          },
          "metadata": {
            "tags": []
          },
          "execution_count": 28
        }
      ]
    },
    {
      "cell_type": "code",
      "metadata": {
        "colab": {
          "base_uri": "https://localhost:8080/",
          "height": 516
        },
        "id": "nZ5avL83QmI_",
        "outputId": "43dd1035-ff8f-436d-b29b-13627868b23b"
      },
      "source": [
        "plt.figure(figsize=(8,8))\n",
        "scat=sns.scatterplot(\n",
        "    x='comp_1', y='comp2', data=pcadf, \n",
        "    hue='predicted_cluster', style='true_labels', palette=\"Set2\"\n",
        ")\n",
        "scat.set_title(\n",
        "    \"Clustering results from TCGA Pan-Cancer\\nGene Expression Data\"\n",
        ")\n",
        "plt.legend(bbox_to_anchor=(1.05, 1), loc=2, borderaxespad=0.0)\n",
        "\n",
        "plt.show()"
      ],
      "execution_count": null,
      "outputs": [
        {
          "output_type": "display_data",
          "data": {
            "image/png": "[encoded data removed]",
            "text/plain": [
              "<Figure size 576x576 with 1 Axes>"
            ]
          },
          "metadata": {
            "tags": [],
            "needs_background": "light"
          }
        }
      ]
    },
    {
      "cell_type": "markdown",
      "metadata": {
        "id": "lmNGLzExR7-w"
      },
      "source": [
        "The clusters only slightly overlapped"
      ]
    },
    {
      "cell_type": "markdown",
      "metadata": {
        "id": "_PsNz8E1R9xH"
      },
      "source": [
        "## Parameter Tuning\n",
        "The overlap was caused because of squishing multiple components to 2. The explained variance went down. Hence we could look for a good number to fix the number of components in PCA"
      ]
    },
    {
      "cell_type": "code",
      "metadata": {
        "id": "kBHkNZqeRRWq"
      },
      "source": [
        "silhouette_scores=[]\n",
        "ari_scores=[]\n",
        "for n in range(2,11):\n",
        "  pipe['preprocessor']['pca'].n_components=n\n",
        "  pipe.fit(data)\n",
        "\n",
        "  silhouette_coef=silhouette_score(\n",
        "      pipe['preprocessor'].transform(data),\n",
        "      pipe['clustering']['kmeans'].labels_,\n",
        "      )\n",
        "  ari=adjusted_rand_score(true_labels,pipe['clustering']['kmeans'].labels_)\n",
        "  silhouette_scores.append(silhouette_coef)\n",
        "  ari_scores.append(ari)"
      ],
      "execution_count": null,
      "outputs": []
    },
    {
      "cell_type": "code",
      "metadata": {
        "colab": {
          "base_uri": "https://localhost:8080/",
          "height": 441
        },
        "id": "1_P8opW0TmL2",
        "outputId": "005802d2-9aa7-4c27-dac4-b4a09ddbbeaf"
      },
      "source": [
        "plt.figure(figsize=(6,6))\n",
        "plt.plot(\n",
        "    range(2,11),\n",
        "    silhouette_scores,\n",
        "    c=\"#008fd5\",\n",
        "    label='silhouette coefficient',\n",
        ")\n",
        "plt.plot(\n",
        "    range(2,11),\n",
        "    ari_scores,\n",
        "    c=\"#fc4f30\",\n",
        "    label='Rand scores',\n",
        ")\n",
        "plt.xlabel(\"n_components\")\n",
        "plt.legend()\n",
        "plt.title(\"Clustering Performance as a Function of n_components\")\n",
        "plt.tight_layout()\n",
        "plt.show()"
      ],
      "execution_count": null,
      "outputs": [
        {
          "output_type": "display_data",
          "data": {
            "image/png": "[encoded data removed]",
            "text/plain": [
              "<Figure size 432x432 with 1 Axes>"
            ]
          },
          "metadata": {
            "tags": [],
            "needs_background": "light"
          }
        }
      ]
    },
    {
      "cell_type": "markdown",
      "metadata": {
        "id": "1VGT0aZzVXxt"
      },
      "source": [
        "The ARI improves significantly as you add components. It appears to start tapering off after n_components=7, so that would be the value to use for presenting the best clustering results from this pipeline."
      ]
    },
    {
      "cell_type": "code",
      "metadata": {
        "id": "pcx-27_sVZVx"
      },
      "source": [
        ""
      ],
      "execution_count": null,
      "outputs": []
    }
  ]
}